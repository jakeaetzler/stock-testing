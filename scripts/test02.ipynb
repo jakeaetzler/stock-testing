{
 "cells": [
  {
   "cell_type": "markdown",
   "source": [
    "# Working with all_out.csv from AWS"
   ],
   "metadata": {
    "collapsed": false
   }
  },
  {
   "cell_type": "code",
   "execution_count": 5,
   "outputs": [
    {
     "data": {
      "text/plain": "     ticker                                               yhat   \n237    BIOS  0       9.907164\\n1       9.895709\\n2       9....  \\\n17     ACHN  0      0.470825\\n1      0.468582\\n2      0.463...   \n1546   ROSE  0       9.890240\\n1       9.901152\\n2       9....   \n188    AXLA  0      13.781287\\n1      13.692826\\n2      13....   \n1631    SIC  0      11.075034\\n1      11.139915\\n2      11....   \n1421    PNM  0        8.045549\\n1        8.053219\\n2       ...   \n753    GALT  0       1.536383\\n1       1.580598\\n2       1....   \n752    GAIA  0       7.806805\\n1       7.797882\\n2       7....   \n642    EVLO  0       14.379654\\n1       14.358337\\n2       ...   \n789    GLYC  0       11.478338\\n1       11.437925\\n2       ...   \n599    ELVT  0       7.445463\\n1       7.449914\\n2       7....   \n1610   SENS  0       3.372948\\n1       3.368049\\n2       3....   \n45      AGE  0       4.038236\\n1       4.060011\\n2       4....   \n234     BHR  0       13.718380\\n1       13.709985\\n2       ...   \n379     CIA  0       7.200812\\n1       7.184599\\n2       7....   \n1724   SYBX  0       47.208878\\n1       46.993474\\n2       ...   \n1658   SNCR  0       15.332241\\n1       15.421252\\n2       ...   \n570     EBF  0        8.616089\\n1        8.630875\\n2       ...   \n1333   OPTN  0       17.224066\\n1       17.488320\\n2       ...   \n427    CODA  0       1.399127\\n1       1.396040\\n2       1....   \n\n                                             yhat_lower   \n237   0       9.885544\\n1       9.875005\\n2       9....  \\\n17    0      0.384958\\n1      0.382172\\n2      0.372...   \n1546  0       9.807516\\n1       9.826324\\n2       9....   \n188   0      13.062081\\n1      12.981133\\n2      12....   \n1631  0      10.002055\\n1      10.062892\\n2      10....   \n1421  0        5.654236\\n1        5.732954\\n2       ...   \n753   0       0.364286\\n1       0.421537\\n2       0....   \n752   0       6.173284\\n1       6.278576\\n2       6....   \n642   0       12.553755\\n1       12.607248\\n2       ...   \n789   0       9.445384\\n1       9.419324\\n2       9....   \n599   0       6.797491\\n1       6.793566\\n2       6....   \n1610  0       2.838641\\n1       2.838891\\n2       2....   \n45    0       3.665507\\n1       3.709014\\n2       3....   \n234   0       12.509722\\n1       12.523123\\n2       ...   \n379   0       6.331961\\n1       6.366133\\n2       6....   \n1724  0       44.332282\\n1       44.278893\\n2       ...   \n1658  0       10.931500\\n1       11.149720\\n2       ...   \n570   0        7.584769\\n1        7.497559\\n2       ...   \n1333  0       15.440139\\n1       15.771933\\n2       ...   \n427   0       0.051482\\n1      -0.012050\\n2       0....   \n\n                                             yhat_upper   \n237   0       9.928179\\n1       9.916666\\n2       9....  \\\n17    0      0.559590\\n1      0.557026\\n2      0.546...   \n1546  0       9.968057\\n1       9.979018\\n2       9....   \n188   0      14.540644\\n1      14.445205\\n2      14....   \n1631  0      12.187366\\n1      12.266782\\n2      12....   \n1421  0       10.447134\\n1       10.549089\\n2       ...   \n753   0       2.730520\\n1       2.789043\\n2       2....   \n752   0       9.307885\\n1       9.436987\\n2       9....   \n642   0       16.164517\\n1       16.272833\\n2       ...   \n789   0       13.277188\\n1       13.271933\\n2       ...   \n599   0       8.122361\\n1       8.171368\\n2       8....   \n1610  0       3.920619\\n1       3.899913\\n2       3....   \n45    0       4.388683\\n1       4.434453\\n2       4....   \n234   0       14.916763\\n1       14.895531\\n2       ...   \n379   0       8.034358\\n1       8.006829\\n2       7....   \n1724  0       50.019344\\n1       49.755978\\n2       ...   \n1658  0       19.836272\\n1       20.062375\\n2       ...   \n570   0        9.727866\\n1        9.689538\\n2       ...   \n1333  0       18.951788\\n1       19.148164\\n2       ...   \n427   0       2.760087\\n1       2.666494\\n2       2....   \n\n                                                  trend      rmse      mape  \n237   0       9.810922\\n1       9.798046\\n2       9....  0.016792  0.013947  \n17    0      0.501719\\n1      0.501008\\n2      0.500...  0.094695  0.068446  \n1546  0       9.882443\\n1       9.883500\\n2       9....  0.140144  0.126471  \n188   0      13.628106\\n1      13.557447\\n2      13....  0.142589  0.116961  \n1631  0      11.995581\\n1      11.977595\\n2      11....  0.158764  0.155018  \n1421  0        8.516241\\n1        8.519712\\n2       ...  0.185366  0.152215  \n753   0       1.714595\\n1       1.726036\\n2       1....  0.193893  0.144155  \n752   0       7.318910\\n1       7.314618\\n2       7....  0.248303  0.214961  \n642   0       15.619481\\n1       15.600536\\n2       ...  0.251448  0.220796  \n789   0       9.394659\\n1       9.355988\\n2       9....  0.259032  0.198841  \n599   0       7.721030\\n1       7.715525\\n2       7....  0.267988  0.263199  \n1610  0       3.277792\\n1       3.277120\\n2       3....  0.277590  0.271629  \n45    0       2.957295\\n1       2.956359\\n2       2....  0.280603  0.249275  \n234   0       14.348229\\n1       14.340341\\n2       ...  0.280655  0.247912  \n379   0       6.623682\\n1       6.624669\\n2       6....  0.309292  0.242453  \n1724  0       48.210075\\n1       48.136258\\n2       ...  0.320925  0.277886  \n1658  0       15.637022\\n1       15.669654\\n2       ...  0.323224  0.298564  \n570   0        8.816747\\n1        8.819101\\n2       ...  0.323354  0.263511  \n1333  0       18.556104\\n1       18.614208\\n2       ...  0.324736  0.297966  \n427   0       0.549703\\n1       0.547692\\n2       0....  0.331841  0.256861  ",
      "text/html": "<div>\n<style scoped>\n    .dataframe tbody tr th:only-of-type {\n        vertical-align: middle;\n    }\n\n    .dataframe tbody tr th {\n        vertical-align: top;\n    }\n\n    .dataframe thead th {\n        text-align: right;\n    }\n</style>\n<table border=\"1\" class=\"dataframe\">\n  <thead>\n    <tr style=\"text-align: right;\">\n      <th></th>\n      <th>ticker</th>\n      <th>yhat</th>\n      <th>yhat_lower</th>\n      <th>yhat_upper</th>\n      <th>trend</th>\n      <th>rmse</th>\n      <th>mape</th>\n    </tr>\n  </thead>\n  <tbody>\n    <tr>\n      <th>237</th>\n      <td>BIOS</td>\n      <td>0       9.907164\\n1       9.895709\\n2       9....</td>\n      <td>0       9.885544\\n1       9.875005\\n2       9....</td>\n      <td>0       9.928179\\n1       9.916666\\n2       9....</td>\n      <td>0       9.810922\\n1       9.798046\\n2       9....</td>\n      <td>0.016792</td>\n      <td>0.013947</td>\n    </tr>\n    <tr>\n      <th>17</th>\n      <td>ACHN</td>\n      <td>0      0.470825\\n1      0.468582\\n2      0.463...</td>\n      <td>0      0.384958\\n1      0.382172\\n2      0.372...</td>\n      <td>0      0.559590\\n1      0.557026\\n2      0.546...</td>\n      <td>0      0.501719\\n1      0.501008\\n2      0.500...</td>\n      <td>0.094695</td>\n      <td>0.068446</td>\n    </tr>\n    <tr>\n      <th>1546</th>\n      <td>ROSE</td>\n      <td>0       9.890240\\n1       9.901152\\n2       9....</td>\n      <td>0       9.807516\\n1       9.826324\\n2       9....</td>\n      <td>0       9.968057\\n1       9.979018\\n2       9....</td>\n      <td>0       9.882443\\n1       9.883500\\n2       9....</td>\n      <td>0.140144</td>\n      <td>0.126471</td>\n    </tr>\n    <tr>\n      <th>188</th>\n      <td>AXLA</td>\n      <td>0      13.781287\\n1      13.692826\\n2      13....</td>\n      <td>0      13.062081\\n1      12.981133\\n2      12....</td>\n      <td>0      14.540644\\n1      14.445205\\n2      14....</td>\n      <td>0      13.628106\\n1      13.557447\\n2      13....</td>\n      <td>0.142589</td>\n      <td>0.116961</td>\n    </tr>\n    <tr>\n      <th>1631</th>\n      <td>SIC</td>\n      <td>0      11.075034\\n1      11.139915\\n2      11....</td>\n      <td>0      10.002055\\n1      10.062892\\n2      10....</td>\n      <td>0      12.187366\\n1      12.266782\\n2      12....</td>\n      <td>0      11.995581\\n1      11.977595\\n2      11....</td>\n      <td>0.158764</td>\n      <td>0.155018</td>\n    </tr>\n    <tr>\n      <th>1421</th>\n      <td>PNM</td>\n      <td>0        8.045549\\n1        8.053219\\n2       ...</td>\n      <td>0        5.654236\\n1        5.732954\\n2       ...</td>\n      <td>0       10.447134\\n1       10.549089\\n2       ...</td>\n      <td>0        8.516241\\n1        8.519712\\n2       ...</td>\n      <td>0.185366</td>\n      <td>0.152215</td>\n    </tr>\n    <tr>\n      <th>753</th>\n      <td>GALT</td>\n      <td>0       1.536383\\n1       1.580598\\n2       1....</td>\n      <td>0       0.364286\\n1       0.421537\\n2       0....</td>\n      <td>0       2.730520\\n1       2.789043\\n2       2....</td>\n      <td>0       1.714595\\n1       1.726036\\n2       1....</td>\n      <td>0.193893</td>\n      <td>0.144155</td>\n    </tr>\n    <tr>\n      <th>752</th>\n      <td>GAIA</td>\n      <td>0       7.806805\\n1       7.797882\\n2       7....</td>\n      <td>0       6.173284\\n1       6.278576\\n2       6....</td>\n      <td>0       9.307885\\n1       9.436987\\n2       9....</td>\n      <td>0       7.318910\\n1       7.314618\\n2       7....</td>\n      <td>0.248303</td>\n      <td>0.214961</td>\n    </tr>\n    <tr>\n      <th>642</th>\n      <td>EVLO</td>\n      <td>0       14.379654\\n1       14.358337\\n2       ...</td>\n      <td>0       12.553755\\n1       12.607248\\n2       ...</td>\n      <td>0       16.164517\\n1       16.272833\\n2       ...</td>\n      <td>0       15.619481\\n1       15.600536\\n2       ...</td>\n      <td>0.251448</td>\n      <td>0.220796</td>\n    </tr>\n    <tr>\n      <th>789</th>\n      <td>GLYC</td>\n      <td>0       11.478338\\n1       11.437925\\n2       ...</td>\n      <td>0       9.445384\\n1       9.419324\\n2       9....</td>\n      <td>0       13.277188\\n1       13.271933\\n2       ...</td>\n      <td>0       9.394659\\n1       9.355988\\n2       9....</td>\n      <td>0.259032</td>\n      <td>0.198841</td>\n    </tr>\n    <tr>\n      <th>599</th>\n      <td>ELVT</td>\n      <td>0       7.445463\\n1       7.449914\\n2       7....</td>\n      <td>0       6.797491\\n1       6.793566\\n2       6....</td>\n      <td>0       8.122361\\n1       8.171368\\n2       8....</td>\n      <td>0       7.721030\\n1       7.715525\\n2       7....</td>\n      <td>0.267988</td>\n      <td>0.263199</td>\n    </tr>\n    <tr>\n      <th>1610</th>\n      <td>SENS</td>\n      <td>0       3.372948\\n1       3.368049\\n2       3....</td>\n      <td>0       2.838641\\n1       2.838891\\n2       2....</td>\n      <td>0       3.920619\\n1       3.899913\\n2       3....</td>\n      <td>0       3.277792\\n1       3.277120\\n2       3....</td>\n      <td>0.277590</td>\n      <td>0.271629</td>\n    </tr>\n    <tr>\n      <th>45</th>\n      <td>AGE</td>\n      <td>0       4.038236\\n1       4.060011\\n2       4....</td>\n      <td>0       3.665507\\n1       3.709014\\n2       3....</td>\n      <td>0       4.388683\\n1       4.434453\\n2       4....</td>\n      <td>0       2.957295\\n1       2.956359\\n2       2....</td>\n      <td>0.280603</td>\n      <td>0.249275</td>\n    </tr>\n    <tr>\n      <th>234</th>\n      <td>BHR</td>\n      <td>0       13.718380\\n1       13.709985\\n2       ...</td>\n      <td>0       12.509722\\n1       12.523123\\n2       ...</td>\n      <td>0       14.916763\\n1       14.895531\\n2       ...</td>\n      <td>0       14.348229\\n1       14.340341\\n2       ...</td>\n      <td>0.280655</td>\n      <td>0.247912</td>\n    </tr>\n    <tr>\n      <th>379</th>\n      <td>CIA</td>\n      <td>0       7.200812\\n1       7.184599\\n2       7....</td>\n      <td>0       6.331961\\n1       6.366133\\n2       6....</td>\n      <td>0       8.034358\\n1       8.006829\\n2       7....</td>\n      <td>0       6.623682\\n1       6.624669\\n2       6....</td>\n      <td>0.309292</td>\n      <td>0.242453</td>\n    </tr>\n    <tr>\n      <th>1724</th>\n      <td>SYBX</td>\n      <td>0       47.208878\\n1       46.993474\\n2       ...</td>\n      <td>0       44.332282\\n1       44.278893\\n2       ...</td>\n      <td>0       50.019344\\n1       49.755978\\n2       ...</td>\n      <td>0       48.210075\\n1       48.136258\\n2       ...</td>\n      <td>0.320925</td>\n      <td>0.277886</td>\n    </tr>\n    <tr>\n      <th>1658</th>\n      <td>SNCR</td>\n      <td>0       15.332241\\n1       15.421252\\n2       ...</td>\n      <td>0       10.931500\\n1       11.149720\\n2       ...</td>\n      <td>0       19.836272\\n1       20.062375\\n2       ...</td>\n      <td>0       15.637022\\n1       15.669654\\n2       ...</td>\n      <td>0.323224</td>\n      <td>0.298564</td>\n    </tr>\n    <tr>\n      <th>570</th>\n      <td>EBF</td>\n      <td>0        8.616089\\n1        8.630875\\n2       ...</td>\n      <td>0        7.584769\\n1        7.497559\\n2       ...</td>\n      <td>0        9.727866\\n1        9.689538\\n2       ...</td>\n      <td>0        8.816747\\n1        8.819101\\n2       ...</td>\n      <td>0.323354</td>\n      <td>0.263511</td>\n    </tr>\n    <tr>\n      <th>1333</th>\n      <td>OPTN</td>\n      <td>0       17.224066\\n1       17.488320\\n2       ...</td>\n      <td>0       15.440139\\n1       15.771933\\n2       ...</td>\n      <td>0       18.951788\\n1       19.148164\\n2       ...</td>\n      <td>0       18.556104\\n1       18.614208\\n2       ...</td>\n      <td>0.324736</td>\n      <td>0.297966</td>\n    </tr>\n    <tr>\n      <th>427</th>\n      <td>CODA</td>\n      <td>0       1.399127\\n1       1.396040\\n2       1....</td>\n      <td>0       0.051482\\n1      -0.012050\\n2       0....</td>\n      <td>0       2.760087\\n1       2.666494\\n2       2....</td>\n      <td>0       0.549703\\n1       0.547692\\n2       0....</td>\n      <td>0.331841</td>\n      <td>0.256861</td>\n    </tr>\n  </tbody>\n</table>\n</div>"
     },
     "execution_count": 5,
     "metadata": {},
     "output_type": "execute_result"
    }
   ],
   "source": [
    "import pandas as pd\n",
    "import numpy as np\n",
    "import yfinance as yf\n",
    "\n",
    "df = pd.read_csv('all_out.csv')\n",
    "\n",
    "df.sort_values(by='rmse', inplace=True)\n",
    "\n",
    "df.head(20)"
   ],
   "metadata": {
    "collapsed": false,
    "ExecuteTime": {
     "start_time": "2023-04-17T16:15:34.294465Z",
     "end_time": "2023-04-17T16:15:34.466721Z"
    }
   }
  },
  {
   "cell_type": "markdown",
   "source": [
    "# Prophet Algorithm Explanation\n",
    "\n",
    "The Prophet algorithm is a time series forecasting model developed by Facebook. At a high level, the algorithm can be expressed mathematically as follows:\n",
    "\n",
    "Let $y(t)$ be the time series data at time $t$, where $t = 1,2,...,T$.\n",
    "\n",
    "Prophet models the time series as the sum of four components:\n",
    "\n",
    "$y(t) = g(t) + s(t) + h(t) + e(t)$\n",
    "\n",
    "where:\n",
    "\n",
    "$g(t)$ represents the trend component of the time series\n",
    "$s(t)$ represents the seasonality component of the time series\n",
    "$h(t)$ represents the holiday component of the time series\n",
    "$e(t)$ represents the error term, assumed to be normally distributed with zero mean and constant variance.\n",
    "\n",
    "The trend component is modeled as a piecewise linear or logistic function of time $t$:\n",
    "\n",
    "$g(t) = a + bt + c(t)$\n",
    "\n",
    "where:\n",
    "\n",
    "$a$ is the intercept parameter\n",
    "$b$ is the slope parameter\n",
    "$c(t)$ is a piecewise linear or logistic function of time $t$ that captures any abrupt changes or transitions in the trend.\n",
    "\n",
    "The seasonality component is modeled as a Fourier series:\n",
    "\n",
    "$s(t) = \\sum_{k=1}^{K} (a_k \\cos(2\\pi kt/P) + b_k \\sin(2\\pi kt/P))$\n",
    "\n",
    "where:\n",
    "\n",
    "$K$ is the number of Fourier terms used to model the seasonality\n",
    "$a_k$ and $b_k$ are the Fourier coefficients\n",
    "$P$ is the period of the seasonality, which can be automatically inferred from the data or specified by the user.\n",
    "\n",
    "The holiday component is modeled as a set of indicator variables that take on the value of 1 during holiday periods and 0 otherwise.\n",
    "\n",
    "$h(t) = \\sum_{j=1}^{J} h_j(t)$\n",
    "\n",
    "where:\n",
    "\n",
    "$J$ is the number of holidays or other events that affect the time series\n",
    "$h_j(t)$ is an indicator variable that takes on the value of 1 during holiday $j$ and 0 otherwise.\n",
    "\n",
    "The parameters of the model ($a$, $b$, $c(t)$, $a_k$, $b_k$, $h_j(t)$, and the error variance) are estimated using a Bayesian approach, which involves specifying prior distributions for the parameters and updating these distributions based on the observed data.\n",
    "\n",
    "The resulting model can then be used to forecast future values of the time series, with uncertainty estimates provided by the posterior distributions of the model parameters."
   ],
   "metadata": {
    "collapsed": false
   }
  },
  {
   "cell_type": "markdown",
   "source": [
    "# Testing getting tickers"
   ],
   "metadata": {
    "collapsed": false
   }
  },
  {
   "cell_type": "code",
   "execution_count": 10,
   "outputs": [
    {
     "data": {
      "text/plain": "['AACG',\n 'AACI',\n 'AACIW',\n 'AADI',\n 'AAL',\n 'AAME',\n 'AAOI',\n 'AAON',\n 'AAPL',\n 'ABCB',\n 'ABCL',\n 'ABCM',\n 'ABEO',\n 'ABIO',\n 'ABNB',\n 'ABOS',\n 'ABSI',\n 'ABST',\n 'ABUS',\n 'ABVC',\n 'ACAB',\n 'ACABW',\n 'ACAC',\n 'ACACU',\n 'ACACW',\n 'ACAD',\n 'ACAH',\n 'ACAHW',\n 'ACAX',\n 'ACAXR',\n 'ACAXU',\n 'ACAXW',\n 'ACB',\n 'ACBA',\n 'ACBAU',\n 'ACBAW',\n 'ACCD',\n 'ACDC',\n 'ACDCW',\n 'ACER',\n 'ACET',\n 'ACGL',\n 'ACGLN',\n 'ACGLO',\n 'ACGN',\n 'ACHC',\n 'ACHL',\n 'ACHV',\n 'ACIU',\n 'ACIW',\n 'ACLS',\n 'ACLX',\n 'ACMR',\n 'ACNB',\n 'ACNT',\n 'ACON',\n 'ACONW',\n 'ACOR',\n 'ACRS',\n 'ACRV',\n 'ACRX',\n 'ACST',\n 'ACT',\n 'ACTG',\n 'ACVA',\n 'ACXP',\n 'ADAG',\n 'ADAL',\n 'ADALW',\n 'ADAP',\n 'ADBE',\n 'ADD',\n 'ADEA',\n 'ADER',\n 'ADERW',\n 'ADES',\n 'ADI',\n 'ADIL',\n 'ADILW',\n 'ADMA',\n 'ADMP',\n 'ADN',\n 'ADNWW',\n 'ADOC',\n 'ADOCR',\n 'ADOCW',\n 'ADP',\n 'ADPT',\n 'ADSE',\n 'ADSEW',\n 'ADSK',\n 'ADTH',\n 'ADTHW',\n 'ADTN',\n 'ADTX',\n 'ADUS',\n 'ADV',\n 'ADVM',\n 'ADVWW',\n 'ADXN',\n 'AEAE',\n 'AEAEU',\n 'AEAEW',\n 'AEHL',\n 'AEHR',\n 'AEI',\n 'AEIS',\n 'AEMD',\n 'AEP',\n 'AEPPZ',\n 'AEY',\n 'AEYE',\n 'AEZS',\n 'AFAR',\n 'AFARU',\n 'AFARW',\n 'AFBI',\n 'AFCG',\n 'AFIB',\n 'AFMD',\n 'AFRI',\n 'AFRIW',\n 'AFRM',\n 'AFYA',\n 'AGAE',\n 'AGBA',\n 'AGBAW',\n 'AGEN',\n 'AGFY',\n 'AGIL',\n 'AGILW',\n 'AGIO',\n 'AGLE',\n 'AGMH',\n 'AGNC',\n 'AGNCL',\n 'AGNCM',\n 'AGNCN',\n 'AGNCO',\n 'AGNCP',\n 'AGRI',\n 'AGRIW',\n 'AGRX',\n 'AGYS',\n 'AHCO',\n 'AHG',\n 'AHI',\n 'AHRN',\n 'AHRNU',\n 'AHRNW',\n 'AIB',\n 'AIBBR',\n 'AIH',\n 'AIHS',\n 'AIMBU',\n 'AIMD',\n 'AIMDW',\n 'AIP',\n 'AIRG',\n 'AIRS',\n 'AIRT',\n 'AIRTP',\n 'AIXI',\n 'AKAM',\n 'AKAN',\n 'AKBA',\n 'AKLI',\n 'AKRO',\n 'AKTS',\n 'AKTX',\n 'AKU',\n 'AKYA',\n 'ALAR',\n 'ALBT',\n 'ALCO',\n 'ALDX',\n 'ALEC',\n 'ALGM',\n 'ALGN',\n 'ALGS',\n 'ALGT',\n 'ALHC',\n 'ALIM',\n 'ALKS',\n 'ALKT',\n 'ALLK',\n 'ALLO',\n 'ALLR',\n 'ALLT',\n 'ALNY',\n 'ALOR',\n 'ALORU',\n 'ALORW',\n 'ALOT',\n 'ALPA',\n 'ALPN',\n 'ALPP',\n 'ALPS',\n 'ALRM',\n 'ALRN',\n 'ALRS',\n 'ALSA',\n 'ALSAR',\n 'ALT',\n 'ALTI',\n 'ALTIW',\n 'ALTO',\n 'ALTR',\n 'ALTU',\n 'ALTUW',\n 'ALVO',\n 'ALVOW',\n 'ALVR',\n 'ALXO',\n 'ALYA',\n 'ALZN',\n 'AMAL',\n 'AMAM',\n 'AMAO',\n 'AMAOW',\n 'AMAT',\n 'AMBA',\n 'AMCX',\n 'AMD',\n 'AMED',\n 'AMEH',\n 'AMGN',\n 'AMKR',\n 'AMLI',\n 'AMLX',\n 'AMNB',\n 'AMOT',\n 'AMPG',\n 'AMPGW',\n 'AMPH',\n 'AMPL',\n 'AMRK',\n 'AMRN',\n 'AMRS',\n 'AMSC',\n 'AMSF',\n 'AMST',\n 'AMSWA',\n 'AMTB',\n 'AMTI',\n 'AMTX',\n 'AMV',\n 'AMWD',\n 'AMZN',\n 'ANAB',\n 'ANDE',\n 'ANEB',\n 'ANGH',\n 'ANGHW',\n 'ANGI',\n 'ANGN',\n 'ANGO',\n 'ANIK',\n 'ANIP',\n 'ANIX',\n 'ANNX',\n 'ANPC',\n 'ANSS',\n 'ANTE',\n 'ANTX',\n 'ANY',\n 'ANZU',\n 'ANZUU',\n 'ANZUW',\n 'AOGO',\n 'AOGOW',\n 'AOSL',\n 'AOUT',\n 'APA',\n 'APAC',\n 'APACW',\n 'APCX',\n 'APCXW',\n 'APDN',\n 'APEI',\n 'APGN',\n 'APGNW',\n 'API',\n 'APLD',\n 'APLM',\n 'APLMW',\n 'APLS',\n 'APLT',\n 'APM',\n 'APMI',\n 'APMIW',\n 'APOG',\n 'APP',\n 'APPF',\n 'APPH',\n 'APPHW',\n 'APPN',\n 'APPS',\n 'APRE',\n 'APTM',\n 'APTMW',\n 'APTO',\n 'APTX',\n 'APVO',\n 'APWC',\n 'APXI',\n 'APXIU',\n 'APXIW',\n 'APYX',\n 'AQB',\n 'AQMS',\n 'AQST',\n 'AQU',\n 'AQUNR',\n 'AQUNU',\n 'ARAV',\n 'ARAY',\n 'ARBB',\n 'ARBE',\n 'ARBEW',\n 'ARBG',\n 'ARBGW',\n 'ARBK',\n 'ARBKL',\n 'ARCB',\n 'ARCC',\n 'ARCE',\n 'ARCT',\n 'ARDS',\n 'ARDX',\n 'AREB',\n 'AREBW',\n 'AREC',\n 'ARGX',\n 'ARHS',\n 'ARIZ',\n 'ARIZR',\n 'ARIZU',\n 'ARIZW',\n 'ARKO',\n 'ARKOW',\n 'ARKR',\n 'ARLP',\n 'AROW',\n 'ARQQ',\n 'ARQQW',\n 'ARQT',\n 'ARRW',\n 'ARRWU',\n 'ARRWW',\n 'ARRY',\n 'ARTE',\n 'ARTEU',\n 'ARTEW',\n 'ARTL',\n 'ARTLW',\n 'ARTNA',\n 'ARTW',\n 'ARVL',\n 'ARVN',\n 'ARWR',\n 'ARYD',\n 'ARYE',\n 'ASCA',\n 'ASCAR',\n 'ASCAU',\n 'ASCB',\n 'ASLE',\n 'ASLN',\n 'ASMB',\n 'ASML',\n 'ASND',\n 'ASNS',\n 'ASO',\n 'ASPAU',\n 'ASPI',\n 'ASPS',\n 'ASRT',\n 'ASRV',\n 'ASST',\n 'ASTC',\n 'ASTE',\n 'ASTI',\n 'ASTL',\n 'ASTLW',\n 'ASTR',\n 'ASTS',\n 'ASTSW',\n 'ASUR',\n 'ASYS',\n 'ATAI',\n 'ATAK',\n 'ATAKR',\n 'ATAKU',\n 'ATAKW',\n 'ATAT',\n 'ATCOL',\n 'ATCX',\n 'ATEC',\n 'ATER',\n 'ATEX',\n 'ATHA',\n 'ATHE',\n 'ATHX',\n 'ATIF',\n 'ATLC',\n 'ATLCL',\n 'ATLCP',\n 'ATLO',\n 'ATLX',\n 'ATMC',\n 'ATMCU',\n 'ATMCW',\n 'ATMVR',\n 'ATMVU',\n 'ATNF',\n 'ATNFW',\n 'ATNI',\n 'ATNX',\n 'ATOM',\n 'ATOS',\n 'ATRA',\n 'ATRC',\n 'ATRI',\n 'ATRO',\n 'ATSG',\n 'ATVI',\n 'ATXG',\n 'ATXI',\n 'ATXS',\n 'AUBN',\n 'AUDC',\n 'AUGX',\n 'AUID',\n 'AUPH',\n 'AUR',\n 'AURA',\n 'AURC',\n 'AURCW',\n 'AUROW',\n 'AUTL',\n 'AUUD',\n 'AUUDW',\n 'AUVI',\n 'AUVIP',\n 'AVAC',\n 'AVACW',\n 'AVAH',\n 'AVAV',\n 'AVDL',\n 'AVDX',\n 'AVGO',\n 'AVGR',\n 'AVHIW',\n 'AVID',\n 'AVIR',\n 'AVNW',\n 'AVO',\n 'AVPT',\n 'AVPTW',\n 'AVRO',\n 'AVT',\n 'AVTA',\n 'AVTE',\n 'AVTX',\n 'AVXL',\n 'AWH',\n 'AWIN',\n 'AWINW',\n 'AWRE',\n 'AXDX',\n 'AXGN',\n 'AXLA',\n 'AXNX',\n 'AXON',\n 'AXSM',\n 'AXTI',\n 'AY',\n 'AYRO',\n 'AYTU',\n 'AZ',\n 'AZN',\n 'AZPN',\n 'AZTA',\n 'AZYO',\n 'BACK',\n 'BAER',\n 'BAERW',\n 'BAFN',\n 'BAND',\n 'BANF',\n 'BANFP',\n 'BANL',\n 'BANR',\n 'BANX',\n 'BAOS',\n 'BASE',\n 'BATRA',\n 'BATRK',\n 'BBBY',\n 'BBCP',\n 'BBGI',\n 'BBIG',\n 'BBIO',\n 'BBLG',\n 'BBLGW',\n 'BBSI',\n 'BCAB',\n 'BCAN',\n 'BCBP',\n 'BCDA',\n 'BCDAW',\n 'BCEL',\n 'BCLI',\n 'BCML',\n 'BCOV',\n 'BCOW',\n 'BCPC',\n 'BCRX',\n 'BCSA',\n 'BCSAU',\n 'BCSAW',\n 'BCTX',\n 'BCTXW',\n 'BCYC',\n 'BDRX',\n 'BDSX',\n 'BDTX',\n 'BEAM',\n 'BEAT',\n 'BEATW',\n 'BECN',\n 'BEEM',\n 'BEEMW',\n 'BELFA',\n 'BELFB',\n 'BFC',\n 'BFI',\n 'BFIIW',\n 'BFIN',\n 'BFRG',\n 'BFRGW',\n 'BFRI',\n 'BFRIW',\n 'BFST',\n 'BGCP',\n 'BGFV',\n 'BGNE',\n 'BGRY',\n 'BGRYW',\n 'BGXX',\n 'BHAC',\n 'BHAT',\n 'BHF',\n 'BHFAL',\n 'BHFAM',\n 'BHFAN',\n 'BHFAO',\n 'BHFAP',\n 'BIAF',\n 'BIAFW',\n 'BIDU',\n 'BIGC',\n 'BIIB',\n 'BILI',\n 'BIMI',\n 'BIOC',\n 'BIOL',\n 'BIOR',\n 'BIOS',\n 'BIOSW',\n 'BIOX',\n 'BIRD',\n 'BITF',\n 'BIVI',\n 'BJDX',\n 'BJRI',\n 'BKCC',\n 'BKNG',\n 'BKR',\n 'BKSC',\n 'BKYI',\n 'BL',\n 'BLAC',\n 'BLACR',\n 'BLACU',\n 'BLACW',\n 'BLBD',\n 'BLBX',\n 'BLCM',\n 'BLDE',\n 'BLDEW',\n 'BLDP',\n 'BLEU',\n 'BLEUR',\n 'BLEUU',\n 'BLEUW',\n 'BLFS',\n 'BLFY',\n 'BLIN',\n 'BLKB',\n 'BLMN',\n 'BLNGU',\n 'BLNGW',\n 'BLNK',\n 'BLPH',\n 'BLRX',\n 'BLTE',\n 'BLU',\n 'BLUE',\n 'BLZE',\n 'BMAQ',\n 'BMAQU',\n 'BMAQW',\n 'BMBL',\n 'BMEA',\n 'BMR',\n 'BMRA',\n 'BMRC',\n 'BMRN',\n 'BNGO',\n 'BNGOW',\n 'BNIX',\n 'BNIXR',\n 'BNIXW',\n 'BNMV',\n 'BNNR',\n 'BNNRU',\n 'BNNRW',\n 'BNOX',\n 'BNR',\n 'BNRG',\n 'BNSO',\n 'BNTC',\n 'BNTX',\n 'BOCN',\n 'BOCNU',\n 'BOCNW',\n 'BOKF',\n 'BOLT',\n 'BON',\n 'BOOM',\n 'BOSC',\n 'BOTJ',\n 'BOXL',\n 'BPAC',\n 'BPACU',\n 'BPACW',\n 'BPMC',\n 'BPOP',\n 'BPOPM',\n 'BPRN',\n 'BPTH',\n 'BPTS',\n 'BPYPM',\n 'BPYPN',\n 'BPYPO',\n 'BPYPP',\n 'BRAC',\n 'BRACR',\n 'BRAG',\n 'BREA',\n 'BREZ',\n 'BREZR',\n 'BREZW',\n 'BRFH',\n 'BRID',\n 'BRIV',\n 'BRIVU',\n 'BRIVW',\n 'BRKH',\n 'BRKHW',\n 'BRKL',\n 'BRKR',\n 'BRLI',\n 'BRLIR',\n 'BRLIW',\n 'BRLT',\n 'BROG',\n 'BROGW',\n 'BRP',\n 'BRQS',\n 'BRSH',\n 'BRSHW',\n 'BRTX',\n 'BRY',\n 'BRZE',\n 'BSBK',\n 'BSET',\n 'BSFC',\n 'BSGM',\n 'BSQR',\n 'BSRR',\n 'BSVN',\n 'BSY',\n 'BTAI',\n 'BTB',\n 'BTBD',\n 'BTBDW',\n 'BTBT',\n 'BTCS',\n 'BTCY',\n 'BTDR',\n 'BTMD',\n 'BTMDW',\n 'BTOG',\n 'BTTX',\n 'BTWN',\n 'BTWNU',\n 'BTWNW',\n 'BUSE',\n 'BVS',\n 'BVXV',\n 'BWAC',\n 'BWACW',\n 'BWAQR',\n 'BWAQU',\n 'BWAQW',\n 'BWAY',\n 'BWB',\n 'BWBBP',\n 'BWC',\n 'BWCAU',\n 'BWCAW',\n 'BWEN',\n 'BWFG',\n 'BWMN',\n 'BWMX',\n 'BWV',\n 'BXRX',\n 'BYFC',\n 'BYND',\n 'BYNO',\n 'BYNOU',\n 'BYRN',\n 'BYSI',\n 'BYTS',\n 'BYTSU',\n 'BYTSW',\n 'BZ',\n 'BZFD',\n 'BZFDW',\n 'BZUN',\n 'CAAS',\n 'CABA',\n 'CAC',\n 'CACC',\n 'CACO',\n 'CADL',\n 'CAKE',\n 'CALB',\n 'CALM',\n 'CALT',\n 'CAMP',\n 'CAMT',\n 'CAN',\n 'CANB',\n 'CAPR',\n 'CAR',\n 'CARA',\n 'CARE',\n 'CARG',\n 'CARM',\n 'CARV',\n 'CASA',\n 'CASH',\n 'CASI',\n 'CASS',\n 'CASY',\n 'CATC',\n 'CATY',\n 'CBAN',\n 'CBAT',\n 'CBAY',\n 'CBFV',\n 'CBIO',\n 'CBNK',\n 'CBRG',\n 'CBRGW',\n 'CBRL',\n 'CBSH',\n 'CCAI',\n 'CCAIU',\n 'CCAIW',\n 'CCAP',\n 'CCB',\n 'CCBG',\n 'CCCC',\n 'CCCS',\n 'CCD',\n 'CCEP',\n 'CCLD',\n 'CCLDO',\n 'CCLDP',\n 'CCLP',\n 'CCNE',\n 'CCNEP',\n 'CCOI',\n 'CCRN',\n 'CCSI',\n 'CCTS',\n 'CCTSW',\n 'CD',\n 'CDAQ',\n 'CDAQU',\n 'CDAQW',\n 'CDIO',\n 'CDIOW',\n 'CDLX',\n 'CDMO',\n 'CDNA',\n 'CDNS',\n 'CDRO',\n 'CDROW',\n 'CDTX',\n 'CDW',\n 'CDXC',\n 'CDXS',\n 'CDZI',\n 'CDZIP',\n 'CEAD',\n 'CEADW',\n 'CECO',\n 'CEG',\n 'CELC',\n 'CELH',\n 'CELL',\n 'CELU',\n 'CELUW',\n 'CELZ',\n 'CEMI',\n 'CENN',\n 'CENT',\n 'CENTA',\n 'CENX',\n 'CERE',\n 'CERS',\n 'CERT',\n 'CETU',\n 'CETUU',\n 'CETX',\n 'CETXP',\n 'CETY',\n 'CEVA',\n 'CFB',\n 'CFBK',\n 'CFFE',\n 'CFFEW',\n 'CFFI',\n 'CFFN',\n 'CFFS',\n 'CFFSU',\n 'CFFSW',\n 'CFIV',\n 'CFIVW',\n 'CFLT',\n 'CFMS',\n 'CFRX',\n 'CFSB',\n 'CG',\n 'CGABL',\n 'CGBD',\n 'CGC',\n 'CGEM',\n 'CGEN',\n 'CGNT',\n 'CGNX',\n 'CGO',\n 'CGRN',\n 'CGTX',\n 'CHCI',\n 'CHCO',\n 'CHDN',\n 'CHEA',\n 'CHEAU',\n 'CHEAW',\n 'CHEF',\n 'CHEK',\n 'CHI',\n 'CHK',\n 'CHKEL',\n 'CHKEW',\n 'CHKEZ',\n 'CHKP',\n 'CHMG',\n 'CHNR',\n 'CHRD',\n 'CHRS',\n 'CHRW',\n 'CHSCL',\n 'CHSCM',\n 'CHSCN',\n 'CHSCO',\n 'CHSCP',\n 'CHSN',\n 'CHTR',\n 'CHUY',\n 'CHW',\n 'CHX',\n 'CHY',\n 'CIDM',\n 'CIFR',\n 'CIFRW',\n 'CIGI',\n 'CIH',\n 'CIIG',\n 'CIIGW',\n 'CINF',\n 'CING',\n 'CINGW',\n 'CISO',\n 'CITE',\n 'CITEW',\n 'CIVB',\n 'CIZN',\n 'CJJD',\n 'CKPT',\n 'CLAR',\n 'CLAY',\n 'CLAYW',\n 'CLBK',\n 'CLBT',\n 'CLBTW',\n 'CLDX',\n 'CLEU',\n 'CLFD',\n 'CLGN',\n 'CLIN',\n 'CLIR',\n 'CLLS',\n 'CLMB',\n 'CLMT',\n 'CLNE',\n 'CLNN',\n 'CLNNW',\n 'CLOE',\n 'CLOER',\n 'CLOEU',\n 'CLOV',\n 'CLPS',\n 'CLPT',\n 'CLRB',\n 'CLRC',\n 'CLRCR',\n 'CLRCU',\n 'CLRCW',\n 'CLRO',\n 'CLSD',\n 'CLSK',\n 'CLST',\n 'CLVR',\n 'CLVRW',\n 'CLWT',\n 'CLXT',\n 'CMAX',\n 'CMAXW',\n 'CMBM',\n 'CMCA',\n 'CMCAW',\n 'CMCO',\n 'CMCSA',\n 'CMCT',\n 'CME',\n 'CMLS',\n 'CMMB',\n 'CMND',\n 'CMPO',\n 'CMPOW',\n 'CMPR',\n 'CMPS',\n 'CMPX',\n 'CMRA',\n 'CMRAW',\n 'CMRX',\n 'CMTL',\n 'CNDT',\n 'CNET',\n 'CNEY',\n 'CNFR',\n 'CNFRL',\n 'CNGL',\n 'CNGLW',\n 'CNOB',\n 'CNOBP',\n 'CNSL',\n 'CNSP',\n 'CNTA',\n 'CNTB',\n 'CNTG',\n 'CNTX',\n 'CNTY',\n 'CNXA',\n 'CNXC',\n 'CNXN',\n 'COCO',\n 'COCP',\n 'CODA',\n 'CODX',\n 'COEP',\n 'COEPW',\n ...]"
     },
     "execution_count": 10,
     "metadata": {},
     "output_type": "execute_result"
    }
   ],
   "source": [
    "raw_df = pd.read_csv('/Users/jake/PycharmProjects/pythonProject2/data/raw_tickers.csv')\n",
    "ticker_list = raw_df.values.tolist()\n",
    "ticker_list = [t[1] for t in ticker_list]\n",
    "ticker_list"
   ],
   "metadata": {
    "collapsed": false,
    "ExecuteTime": {
     "start_time": "2023-04-17T16:20:11.652793Z",
     "end_time": "2023-04-17T16:20:11.703657Z"
    }
   }
  },
  {
   "cell_type": "markdown",
   "source": [],
   "metadata": {
    "collapsed": false
   }
  }
 ],
 "metadata": {
  "kernelspec": {
   "display_name": "Python 3",
   "language": "python",
   "name": "python3"
  },
  "language_info": {
   "codemirror_mode": {
    "name": "ipython",
    "version": 2
   },
   "file_extension": ".py",
   "mimetype": "text/x-python",
   "name": "python",
   "nbconvert_exporter": "python",
   "pygments_lexer": "ipython2",
   "version": "2.7.6"
  }
 },
 "nbformat": 4,
 "nbformat_minor": 0
}
