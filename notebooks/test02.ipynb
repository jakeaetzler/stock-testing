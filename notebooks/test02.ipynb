{
 "cells": [
  {
   "cell_type": "markdown",
   "source": [
    "# Working with all_out.csv from AWS"
   ],
   "metadata": {
    "collapsed": false
   }
  },
  {
   "cell_type": "code",
   "execution_count": 10,
   "outputs": [
    {
     "name": "stdout",
     "output_type": "stream",
     "text": [
      "['BIOS' 'ACHN' 'ROSE' 'AXLA' 'SIC' 'PNM' 'GALT' 'GAIA' 'EVLO' 'GLYC'\n",
      " 'ELVT' 'SENS' 'AGE' 'BHR' 'CIA' 'SYBX' 'SNCR' 'EBF' 'OPTN' 'CODA' 'MCBC'\n",
      " 'FTK' 'MEIP' 'AMRX' 'MCHX' 'VYGR' 'INFN' 'HRTX' 'IVC' 'EEX']\n"
     ]
    }
   ],
   "source": [
    "import pandas as pd\n",
    "import numpy as np\n",
    "import yfinance as yf\n",
    "\n",
    "df = pd.read_csv('all_out.csv')\n",
    "\n",
    "df.sort_values(by='rmse', inplace=True)\n",
    "\n",
    "print(df.head(30).ticker.values)"
   ],
   "metadata": {
    "collapsed": false,
    "ExecuteTime": {
     "start_time": "2023-04-17T21:59:56.463753Z",
     "end_time": "2023-04-17T21:59:56.538981Z"
    }
   }
  },
  {
   "cell_type": "markdown",
   "source": [
    "# Prophet Algorithm Explanation\n",
    "\n",
    "The Prophet algorithm is a time series forecasting model developed by Facebook. At a high level, the algorithm can be expressed mathematically as follows:\n",
    "\n",
    "Let $y(t)$ be the time series data at time $t$, where $t = 1,2,...,T$.\n",
    "\n",
    "Prophet models the time series as the sum of four components:\n",
    "\n",
    "$y(t) = g(t) + s(t) + h(t) + e(t)$\n",
    "\n",
    "where:\n",
    "\n",
    "$g(t)$ represents the trend component of the time series\n",
    "$s(t)$ represents the seasonality component of the time series\n",
    "$h(t)$ represents the holiday component of the time series\n",
    "$e(t)$ represents the error term, assumed to be normally distributed with zero mean and constant variance.\n",
    "\n",
    "The trend component is modeled as a piecewise linear or logistic function of time $t$:\n",
    "\n",
    "$g(t) = a + bt + c(t)$\n",
    "\n",
    "where:\n",
    "\n",
    "$a$ is the intercept parameter\n",
    "$b$ is the slope parameter\n",
    "$c(t)$ is a piecewise linear or logistic function of time $t$ that captures any abrupt changes or transitions in the trend.\n",
    "\n",
    "The seasonality component is modeled as a Fourier series:\n",
    "\n",
    "$s(t) = \\sum_{k=1}^{K} (a_k \\cos(2\\pi kt/P) + b_k \\sin(2\\pi kt/P))$\n",
    "\n",
    "where:\n",
    "\n",
    "$K$ is the number of Fourier terms used to model the seasonality\n",
    "$a_k$ and $b_k$ are the Fourier coefficients\n",
    "$P$ is the period of the seasonality, which can be automatically inferred from the data or specified by the user.\n",
    "\n",
    "The holiday component is modeled as a set of indicator variables that take on the value of 1 during holiday periods and 0 otherwise.\n",
    "\n",
    "$h(t) = \\sum_{j=1}^{J} h_j(t)$\n",
    "\n",
    "where:\n",
    "\n",
    "$J$ is the number of holidays or other events that affect the time series\n",
    "$h_j(t)$ is an indicator variable that takes on the value of 1 during holiday $j$ and 0 otherwise.\n",
    "\n",
    "The parameters of the model ($a$, $b$, $c(t)$, $a_k$, $b_k$, $h_j(t)$, and the error variance) are estimated using a Bayesian approach, which involves specifying prior distributions for the parameters and updating these distributions based on the observed data.\n",
    "\n",
    "The resulting model can then be used to forecast future values of the time series, with uncertainty estimates provided by the posterior distributions of the model parameters."
   ],
   "metadata": {
    "collapsed": false
   }
  },
  {
   "cell_type": "markdown",
   "source": [
    "# Testing getting tickers"
   ],
   "metadata": {
    "collapsed": false
   }
  },
  {
   "cell_type": "code",
   "execution_count": 4,
   "outputs": [
    {
     "data": {
      "text/plain": "['AACG',\n 'AACI',\n 'AACIW',\n 'AADI',\n 'AAL',\n 'AAME',\n 'AAOI',\n 'AAON',\n 'AAPL',\n 'ABCB',\n 'ABCL',\n 'ABCM',\n 'ABEO',\n 'ABIO',\n 'ABNB',\n 'ABOS',\n 'ABSI',\n 'ABST',\n 'ABUS',\n 'ABVC',\n 'ACAB',\n 'ACABW',\n 'ACAC',\n 'ACACU',\n 'ACACW',\n 'ACAD',\n 'ACAH',\n 'ACAHW',\n 'ACAX',\n 'ACAXR',\n 'ACAXU',\n 'ACAXW',\n 'ACB',\n 'ACBA',\n 'ACBAU',\n 'ACBAW',\n 'ACCD',\n 'ACDC',\n 'ACDCW',\n 'ACER',\n 'ACET',\n 'ACGL',\n 'ACGLN',\n 'ACGLO',\n 'ACGN',\n 'ACHC',\n 'ACHL',\n 'ACHV',\n 'ACIU',\n 'ACIW',\n 'ACLS',\n 'ACLX',\n 'ACMR',\n 'ACNB',\n 'ACNT',\n 'ACON',\n 'ACONW',\n 'ACOR',\n 'ACRS',\n 'ACRV',\n 'ACRX',\n 'ACST',\n 'ACT',\n 'ACTG',\n 'ACVA',\n 'ACXP',\n 'ADAG',\n 'ADAL',\n 'ADALW',\n 'ADAP',\n 'ADBE',\n 'ADD',\n 'ADEA',\n 'ADER',\n 'ADERW',\n 'ADES',\n 'ADI',\n 'ADIL',\n 'ADILW',\n 'ADMA',\n 'ADMP',\n 'ADN',\n 'ADNWW',\n 'ADOC',\n 'ADOCR',\n 'ADOCW',\n 'ADP',\n 'ADPT',\n 'ADSE',\n 'ADSEW',\n 'ADSK',\n 'ADTH',\n 'ADTHW',\n 'ADTN',\n 'ADTX',\n 'ADUS',\n 'ADV',\n 'ADVM',\n 'ADVWW',\n 'ADXN',\n 'AEAE',\n 'AEAEU',\n 'AEAEW',\n 'AEHL',\n 'AEHR',\n 'AEI',\n 'AEIS',\n 'AEMD',\n 'AEP',\n 'AEPPZ',\n 'AEY',\n 'AEYE',\n 'AEZS',\n 'AFAR',\n 'AFARU',\n 'AFARW',\n 'AFBI',\n 'AFCG',\n 'AFIB',\n 'AFMD',\n 'AFRI',\n 'AFRIW',\n 'AFRM',\n 'AFYA',\n 'AGAE',\n 'AGBA',\n 'AGBAW',\n 'AGEN',\n 'AGFY',\n 'AGIL',\n 'AGILW',\n 'AGIO',\n 'AGLE',\n 'AGMH',\n 'AGNC',\n 'AGNCL',\n 'AGNCM',\n 'AGNCN',\n 'AGNCO',\n 'AGNCP',\n 'AGRI',\n 'AGRIW',\n 'AGRX',\n 'AGYS',\n 'AHCO',\n 'AHG',\n 'AHI',\n 'AHRN',\n 'AHRNU',\n 'AHRNW',\n 'AIB',\n 'AIBBR',\n 'AIH',\n 'AIHS',\n 'AIMBU',\n 'AIMD',\n 'AIMDW',\n 'AIP',\n 'AIRG',\n 'AIRS',\n 'AIRT',\n 'AIRTP',\n 'AIXI',\n 'AKAM',\n 'AKAN',\n 'AKBA',\n 'AKLI',\n 'AKRO',\n 'AKTS',\n 'AKTX',\n 'AKU',\n 'AKYA',\n 'ALAR',\n 'ALBT',\n 'ALCO',\n 'ALDX',\n 'ALEC',\n 'ALGM',\n 'ALGN',\n 'ALGS',\n 'ALGT',\n 'ALHC',\n 'ALIM',\n 'ALKS',\n 'ALKT',\n 'ALLK',\n 'ALLO',\n 'ALLR',\n 'ALLT',\n 'ALNY',\n 'ALOR',\n 'ALORU',\n 'ALORW',\n 'ALOT',\n 'ALPA',\n 'ALPN',\n 'ALPP',\n 'ALPS',\n 'ALRM',\n 'ALRN',\n 'ALRS',\n 'ALSA',\n 'ALSAR',\n 'ALT',\n 'ALTI',\n 'ALTIW',\n 'ALTO',\n 'ALTR',\n 'ALTU',\n 'ALTUW',\n 'ALVO',\n 'ALVOW',\n 'ALVR',\n 'ALXO',\n 'ALYA',\n 'ALZN',\n 'AMAL',\n 'AMAM',\n 'AMAO',\n 'AMAOW',\n 'AMAT',\n 'AMBA',\n 'AMCX',\n 'AMD',\n 'AMED',\n 'AMEH',\n 'AMGN',\n 'AMKR',\n 'AMLI',\n 'AMLX',\n 'AMNB',\n 'AMOT',\n 'AMPG',\n 'AMPGW',\n 'AMPH',\n 'AMPL',\n 'AMRK',\n 'AMRN',\n 'AMRS',\n 'AMSC',\n 'AMSF',\n 'AMST',\n 'AMSWA',\n 'AMTB',\n 'AMTI',\n 'AMTX',\n 'AMV',\n 'AMWD',\n 'AMZN',\n 'ANAB',\n 'ANDE',\n 'ANEB',\n 'ANGH',\n 'ANGHW',\n 'ANGI',\n 'ANGN',\n 'ANGO',\n 'ANIK',\n 'ANIP',\n 'ANIX',\n 'ANNX',\n 'ANPC',\n 'ANSS',\n 'ANTE',\n 'ANTX',\n 'ANY',\n 'ANZU',\n 'ANZUU',\n 'ANZUW',\n 'AOGO',\n 'AOGOW',\n 'AOSL',\n 'AOUT',\n 'APA',\n 'APAC',\n 'APACW',\n 'APCX',\n 'APCXW',\n 'APDN',\n 'APEI',\n 'APGN',\n 'APGNW',\n 'API',\n 'APLD',\n 'APLM',\n 'APLMW',\n 'APLS',\n 'APLT',\n 'APM',\n 'APMI',\n 'APMIW',\n 'APOG',\n 'APP',\n 'APPF',\n 'APPH',\n 'APPHW',\n 'APPN',\n 'APPS',\n 'APRE',\n 'APTM',\n 'APTMW',\n 'APTO',\n 'APTX',\n 'APVO',\n 'APWC',\n 'APXI',\n 'APXIU',\n 'APXIW',\n 'APYX',\n 'AQB',\n 'AQMS',\n 'AQST',\n 'AQU',\n 'AQUNR',\n 'AQUNU',\n 'ARAV',\n 'ARAY',\n 'ARBB',\n 'ARBE',\n 'ARBEW',\n 'ARBG',\n 'ARBGW',\n 'ARBK',\n 'ARBKL',\n 'ARCB',\n 'ARCC',\n 'ARCE',\n 'ARCT',\n 'ARDS',\n 'ARDX',\n 'AREB',\n 'AREBW',\n 'AREC',\n 'ARGX',\n 'ARHS',\n 'ARIZ',\n 'ARIZR',\n 'ARIZU',\n 'ARIZW',\n 'ARKO',\n 'ARKOW',\n 'ARKR',\n 'ARLP',\n 'AROW',\n 'ARQQ',\n 'ARQQW',\n 'ARQT',\n 'ARRW',\n 'ARRWU',\n 'ARRWW',\n 'ARRY',\n 'ARTE',\n 'ARTEU',\n 'ARTEW',\n 'ARTL',\n 'ARTLW',\n 'ARTNA',\n 'ARTW',\n 'ARVL',\n 'ARVN',\n 'ARWR',\n 'ARYD',\n 'ARYE',\n 'ASCA',\n 'ASCAR',\n 'ASCAU',\n 'ASCB',\n 'ASLE',\n 'ASLN',\n 'ASMB',\n 'ASML',\n 'ASND',\n 'ASNS',\n 'ASO',\n 'ASPAU',\n 'ASPI',\n 'ASPS',\n 'ASRT',\n 'ASRV',\n 'ASST',\n 'ASTC',\n 'ASTE',\n 'ASTI',\n 'ASTL',\n 'ASTLW',\n 'ASTR',\n 'ASTS',\n 'ASTSW',\n 'ASUR',\n 'ASYS',\n 'ATAI',\n 'ATAK',\n 'ATAKR',\n 'ATAKU',\n 'ATAKW',\n 'ATAT',\n 'ATCOL',\n 'ATCX',\n 'ATEC',\n 'ATER',\n 'ATEX',\n 'ATHA',\n 'ATHE',\n 'ATHX',\n 'ATIF',\n 'ATLC',\n 'ATLCL',\n 'ATLCP',\n 'ATLO',\n 'ATLX',\n 'ATMC',\n 'ATMCU',\n 'ATMCW',\n 'ATMVR',\n 'ATMVU',\n 'ATNF',\n 'ATNFW',\n 'ATNI',\n 'ATNX',\n 'ATOM',\n 'ATOS',\n 'ATRA',\n 'ATRC',\n 'ATRI',\n 'ATRO',\n 'ATSG',\n 'ATVI',\n 'ATXG',\n 'ATXI',\n 'ATXS',\n 'AUBN',\n 'AUDC',\n 'AUGX',\n 'AUID',\n 'AUPH',\n 'AUR',\n 'AURA',\n 'AURC',\n 'AURCW',\n 'AUROW',\n 'AUTL',\n 'AUUD',\n 'AUUDW',\n 'AUVI',\n 'AUVIP',\n 'AVAC',\n 'AVACW',\n 'AVAH',\n 'AVAV',\n 'AVDL',\n 'AVDX',\n 'AVGO',\n 'AVGR',\n 'AVHIW',\n 'AVID',\n 'AVIR',\n 'AVNW',\n 'AVO',\n 'AVPT',\n 'AVPTW',\n 'AVRO',\n 'AVT',\n 'AVTA',\n 'AVTE',\n 'AVTX',\n 'AVXL',\n 'AWH',\n 'AWIN',\n 'AWINW',\n 'AWRE',\n 'AXDX',\n 'AXGN',\n 'AXLA',\n 'AXNX',\n 'AXON',\n 'AXSM',\n 'AXTI',\n 'AY',\n 'AYRO',\n 'AYTU',\n 'AZ',\n 'AZN',\n 'AZPN',\n 'AZTA',\n 'AZYO',\n 'BACK',\n 'BAER',\n 'BAERW',\n 'BAFN',\n 'BAND',\n 'BANF',\n 'BANFP',\n 'BANL',\n 'BANR',\n 'BANX',\n 'BAOS',\n 'BASE',\n 'BATRA',\n 'BATRK',\n 'BBBY',\n 'BBCP',\n 'BBGI',\n 'BBIG',\n 'BBIO',\n 'BBLG',\n 'BBLGW',\n 'BBSI',\n 'BCAB',\n 'BCAN',\n 'BCBP',\n 'BCDA',\n 'BCDAW',\n 'BCEL',\n 'BCLI',\n 'BCML',\n 'BCOV',\n 'BCOW',\n 'BCPC',\n 'BCRX',\n 'BCSA',\n 'BCSAU',\n 'BCSAW',\n 'BCTX',\n 'BCTXW',\n 'BCYC',\n 'BDRX',\n 'BDSX',\n 'BDTX',\n 'BEAM',\n 'BEAT',\n 'BEATW',\n 'BECN',\n 'BEEM',\n 'BEEMW',\n 'BELFA',\n 'BELFB',\n 'BFC',\n 'BFI',\n 'BFIIW',\n 'BFIN',\n 'BFRG',\n 'BFRGW',\n 'BFRI',\n 'BFRIW',\n 'BFST',\n 'BGCP',\n 'BGFV',\n 'BGNE',\n 'BGRY',\n 'BGRYW',\n 'BGXX',\n 'BHAC',\n 'BHAT',\n 'BHF',\n 'BHFAL',\n 'BHFAM',\n 'BHFAN',\n 'BHFAO',\n 'BHFAP',\n 'BIAF',\n 'BIAFW',\n 'BIDU',\n 'BIGC',\n 'BIIB',\n 'BILI',\n 'BIMI',\n 'BIOC',\n 'BIOL',\n 'BIOR',\n 'BIOS',\n 'BIOSW',\n 'BIOX',\n 'BIRD',\n 'BITF',\n 'BIVI',\n 'BJDX',\n 'BJRI',\n 'BKCC',\n 'BKNG',\n 'BKR',\n 'BKSC',\n 'BKYI',\n 'BL',\n 'BLAC',\n 'BLACR',\n 'BLACU',\n 'BLACW',\n 'BLBD',\n 'BLBX',\n 'BLCM',\n 'BLDE',\n 'BLDEW',\n 'BLDP',\n 'BLEU',\n 'BLEUR',\n 'BLEUU',\n 'BLEUW',\n 'BLFS',\n 'BLFY',\n 'BLIN',\n 'BLKB',\n 'BLMN',\n 'BLNGU',\n 'BLNGW',\n 'BLNK',\n 'BLPH',\n 'BLRX',\n 'BLTE',\n 'BLU',\n 'BLUE',\n 'BLZE',\n 'BMAQ',\n 'BMAQU',\n 'BMAQW',\n 'BMBL',\n 'BMEA',\n 'BMR',\n 'BMRA',\n 'BMRC',\n 'BMRN',\n 'BNGO',\n 'BNGOW',\n 'BNIX',\n 'BNIXR',\n 'BNIXW',\n 'BNMV',\n 'BNNR',\n 'BNNRU',\n 'BNNRW',\n 'BNOX',\n 'BNR',\n 'BNRG',\n 'BNSO',\n 'BNTC',\n 'BNTX',\n 'BOCN',\n 'BOCNU',\n 'BOCNW',\n 'BOKF',\n 'BOLT',\n 'BON',\n 'BOOM',\n 'BOSC',\n 'BOTJ',\n 'BOXL',\n 'BPAC',\n 'BPACU',\n 'BPACW',\n 'BPMC',\n 'BPOP',\n 'BPOPM',\n 'BPRN',\n 'BPTH',\n 'BPTS',\n 'BPYPM',\n 'BPYPN',\n 'BPYPO',\n 'BPYPP',\n 'BRAC',\n 'BRACR',\n 'BRAG',\n 'BREA',\n 'BREZ',\n 'BREZR',\n 'BREZW',\n 'BRFH',\n 'BRID',\n 'BRIV',\n 'BRIVU',\n 'BRIVW',\n 'BRKH',\n 'BRKHW',\n 'BRKL',\n 'BRKR',\n 'BRLI',\n 'BRLIR',\n 'BRLIW',\n 'BRLT',\n 'BROG',\n 'BROGW',\n 'BRP',\n 'BRQS',\n 'BRSH',\n 'BRSHW',\n 'BRTX',\n 'BRY',\n 'BRZE',\n 'BSBK',\n 'BSET',\n 'BSFC',\n 'BSGM',\n 'BSQR',\n 'BSRR',\n 'BSVN',\n 'BSY',\n 'BTAI',\n 'BTB',\n 'BTBD',\n 'BTBDW',\n 'BTBT',\n 'BTCS',\n 'BTCY',\n 'BTDR',\n 'BTMD',\n 'BTMDW',\n 'BTOG',\n 'BTTX',\n 'BTWN',\n 'BTWNU',\n 'BTWNW',\n 'BUSE',\n 'BVS',\n 'BVXV',\n 'BWAC',\n 'BWACW',\n 'BWAQR',\n 'BWAQU',\n 'BWAQW',\n 'BWAY',\n 'BWB',\n 'BWBBP',\n 'BWC',\n 'BWCAU',\n 'BWCAW',\n 'BWEN',\n 'BWFG',\n 'BWMN',\n 'BWMX',\n 'BWV',\n 'BXRX',\n 'BYFC',\n 'BYND',\n 'BYNO',\n 'BYNOU',\n 'BYRN',\n 'BYSI',\n 'BYTS',\n 'BYTSU',\n 'BYTSW',\n 'BZ',\n 'BZFD',\n 'BZFDW',\n 'BZUN',\n 'CAAS',\n 'CABA',\n 'CAC',\n 'CACC',\n 'CACO',\n 'CADL',\n 'CAKE',\n 'CALB',\n 'CALM',\n 'CALT',\n 'CAMP',\n 'CAMT',\n 'CAN',\n 'CANB',\n 'CAPR',\n 'CAR',\n 'CARA',\n 'CARE',\n 'CARG',\n 'CARM',\n 'CARV',\n 'CASA',\n 'CASH',\n 'CASI',\n 'CASS',\n 'CASY',\n 'CATC',\n 'CATY',\n 'CBAN',\n 'CBAT',\n 'CBAY',\n 'CBFV',\n 'CBIO',\n 'CBNK',\n 'CBRG',\n 'CBRGW',\n 'CBRL',\n 'CBSH',\n 'CCAI',\n 'CCAIU',\n 'CCAIW',\n 'CCAP',\n 'CCB',\n 'CCBG',\n 'CCCC',\n 'CCCS',\n 'CCD',\n 'CCEP',\n 'CCLD',\n 'CCLDO',\n 'CCLDP',\n 'CCLP',\n 'CCNE',\n 'CCNEP',\n 'CCOI',\n 'CCRN',\n 'CCSI',\n 'CCTS',\n 'CCTSW',\n 'CD',\n 'CDAQ',\n 'CDAQU',\n 'CDAQW',\n 'CDIO',\n 'CDIOW',\n 'CDLX',\n 'CDMO',\n 'CDNA',\n 'CDNS',\n 'CDRO',\n 'CDROW',\n 'CDTX',\n 'CDW',\n 'CDXC',\n 'CDXS',\n 'CDZI',\n 'CDZIP',\n 'CEAD',\n 'CEADW',\n 'CECO',\n 'CEG',\n 'CELC',\n 'CELH',\n 'CELL',\n 'CELU',\n 'CELUW',\n 'CELZ',\n 'CEMI',\n 'CENN',\n 'CENT',\n 'CENTA',\n 'CENX',\n 'CERE',\n 'CERS',\n 'CERT',\n 'CETU',\n 'CETUU',\n 'CETX',\n 'CETXP',\n 'CETY',\n 'CEVA',\n 'CFB',\n 'CFBK',\n 'CFFE',\n 'CFFEW',\n 'CFFI',\n 'CFFN',\n 'CFFS',\n 'CFFSU',\n 'CFFSW',\n 'CFIV',\n 'CFIVW',\n 'CFLT',\n 'CFMS',\n 'CFRX',\n 'CFSB',\n 'CG',\n 'CGABL',\n 'CGBD',\n 'CGC',\n 'CGEM',\n 'CGEN',\n 'CGNT',\n 'CGNX',\n 'CGO',\n 'CGRN',\n 'CGTX',\n 'CHCI',\n 'CHCO',\n 'CHDN',\n 'CHEA',\n 'CHEAU',\n 'CHEAW',\n 'CHEF',\n 'CHEK',\n 'CHI',\n 'CHK',\n 'CHKEL',\n 'CHKEW',\n 'CHKEZ',\n 'CHKP',\n 'CHMG',\n 'CHNR',\n 'CHRD',\n 'CHRS',\n 'CHRW',\n 'CHSCL',\n 'CHSCM',\n 'CHSCN',\n 'CHSCO',\n 'CHSCP',\n 'CHSN',\n 'CHTR',\n 'CHUY',\n 'CHW',\n 'CHX',\n 'CHY',\n 'CIDM',\n 'CIFR',\n 'CIFRW',\n 'CIGI',\n 'CIH',\n 'CIIG',\n 'CIIGW',\n 'CINF',\n 'CING',\n 'CINGW',\n 'CISO',\n 'CITE',\n 'CITEW',\n 'CIVB',\n 'CIZN',\n 'CJJD',\n 'CKPT',\n 'CLAR',\n 'CLAY',\n 'CLAYW',\n 'CLBK',\n 'CLBT',\n 'CLBTW',\n 'CLDX',\n 'CLEU',\n 'CLFD',\n 'CLGN',\n 'CLIN',\n 'CLIR',\n 'CLLS',\n 'CLMB',\n 'CLMT',\n 'CLNE',\n 'CLNN',\n 'CLNNW',\n 'CLOE',\n 'CLOER',\n 'CLOEU',\n 'CLOV',\n 'CLPS',\n 'CLPT',\n 'CLRB',\n 'CLRC',\n 'CLRCR',\n 'CLRCU',\n 'CLRCW',\n 'CLRO',\n 'CLSD',\n 'CLSK',\n 'CLST',\n 'CLVR',\n 'CLVRW',\n 'CLWT',\n 'CLXT',\n 'CMAX',\n 'CMAXW',\n 'CMBM',\n 'CMCA',\n 'CMCAW',\n 'CMCO',\n 'CMCSA',\n 'CMCT',\n 'CME',\n 'CMLS',\n 'CMMB',\n 'CMND',\n 'CMPO',\n 'CMPOW',\n 'CMPR',\n 'CMPS',\n 'CMPX',\n 'CMRA',\n 'CMRAW',\n 'CMRX',\n 'CMTL',\n 'CNDT',\n 'CNET',\n 'CNEY',\n 'CNFR',\n 'CNFRL',\n 'CNGL',\n 'CNGLW',\n 'CNOB',\n 'CNOBP',\n 'CNSL',\n 'CNSP',\n 'CNTA',\n 'CNTB',\n 'CNTG',\n 'CNTX',\n 'CNTY',\n 'CNXA',\n 'CNXC',\n 'CNXN',\n 'COCO',\n 'COCP',\n 'CODA',\n 'CODX',\n 'COEP',\n 'COEPW',\n ...]"
     },
     "execution_count": 4,
     "metadata": {},
     "output_type": "execute_result"
    }
   ],
   "source": [
    "raw_df = pd.read_csv('/Users/jake/PycharmProjects/pythonProject2/data/raw_tickers.csv')\n",
    "ticker_list = raw_df.values.tolist()\n",
    "ticker_list = [t[1] for t in ticker_list]\n",
    "ticker_list"
   ],
   "metadata": {
    "collapsed": false,
    "ExecuteTime": {
     "start_time": "2023-04-17T21:34:39.322582Z",
     "end_time": "2023-04-17T21:34:39.412210Z"
    }
   }
  },
  {
   "cell_type": "markdown",
   "source": [],
   "metadata": {
    "collapsed": false
   }
  }
 ],
 "metadata": {
  "kernelspec": {
   "display_name": "Python 3",
   "language": "python",
   "name": "python3"
  },
  "language_info": {
   "codemirror_mode": {
    "name": "ipython",
    "version": 2
   },
   "file_extension": ".py",
   "mimetype": "text/x-python",
   "name": "python",
   "nbconvert_exporter": "python",
   "pygments_lexer": "ipython2",
   "version": "2.7.6"
  }
 },
 "nbformat": 4,
 "nbformat_minor": 0
}
