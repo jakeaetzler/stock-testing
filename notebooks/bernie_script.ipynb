{
 "cells": [
  {
   "cell_type": "markdown",
   "source": [
    "# The beginnings of Bernie the Bot"
   ],
   "metadata": {
    "collapsed": false
   }
  },
  {
   "cell_type": "code",
   "execution_count": 10,
   "outputs": [],
   "source": [
    "import yfinance as yf\n",
    "import numpy as np\n",
    "import matplotlib.pyplot as plt\n",
    "import pandas as pd\n",
    "from sklearn.preprocessing import MinMaxScaler\n",
    "from keras.models import Sequential\n",
    "from keras.layers import Dense, LSTM\n",
    "from prophet import Prophet\n",
    "from sklearn.metrics import mean_squared_error, mean_absolute_error, roc_curve, auc\n",
    "from prophet_rmse import stock_rmse\n",
    "import seaborn as sns\n",
    "from datetime import datetime, timezone, timedelta"
   ],
   "metadata": {
    "collapsed": false,
    "ExecuteTime": {
     "start_time": "2023-04-18T14:59:09.554619Z",
     "end_time": "2023-04-18T14:59:09.604293Z"
    }
   }
  },
  {
   "cell_type": "code",
   "execution_count": 11,
   "outputs": [],
   "source": [
    "class Bernie:\n",
    "    def __init__(self):\n",
    "        self.balance = 20000\n",
    "        self.ticker_list = ['PNM','GALT','GAIA','GLYC']\n",
    "        self.portfolio = {'date': [], 'ticker': [], 'b/s': [], 'price': [], 'quantity': []}\n",
    "        self.date = '2015-01-01'\n",
    "\n",
    "    def predict_tomorrow(self):\n",
    "        self.tom_forecast = []\n",
    "\n",
    "        for t in self.ticker_list:\n",
    "            raw_data = yf.download(t, start=\"2010-01-01\", end=self.date, interval='1d')\n",
    "\n",
    "            df = pd.DataFrame({'ds': raw_data.index, 'y': raw_data['Adj Close']})\n",
    "            df.reset_index(inplace=True, drop=True)\n",
    "\n",
    "            m = Prophet(daily_seasonality=True)\n",
    "\n",
    "            m.fit(df)\n",
    "            future = m.make_future_dataframe(periods=3)\n",
    "            forecast = m.predict(future)\n",
    "\n",
    "            n_three = forecast[-4:].yhat\n",
    "            n_three = n_three.tolist()\n",
    "\n",
    "            self.tom_forecast.append((t, n_three))\n",
    "\n",
    "    def check_buy(self):\n",
    "        for i in range(4):\n",
    "            t = self.tom_forecast[i][0]\n",
    "            n_3 = self.tom_forecast[i][1]\n",
    "\n",
    "            if (n_3[0] < n_3[1]) and (n_3[1] < n_3[2]) and (n_3[2] < n_3[3]):\n",
    "                self.buy(t)\n",
    "\n",
    "    def check_sell(self):\n",
    "        for i in range(4):\n",
    "            n_3 = self.tom_forecast[i][1]\n",
    "            t = self.tom_forecast[i][0]\n",
    "\n",
    "            print(n_3[0], n_3[1])\n",
    "\n",
    "            if n_3[0] > n_3[1]:\n",
    "                self.sell(t)\n",
    "\n",
    "    def buy(self, ticker):\n",
    "        quantity = 5\n",
    "\n",
    "        self.portfolio['date'].append(self.date)\n",
    "        self.portfolio['ticker'].append(ticker)\n",
    "        self.portfolio['b/s'].append('b')\n",
    "        self.portfolio['price'].append((self.tom_forecast[1][1][0]) * quantity)\n",
    "        self.portfolio['quantity'].append(quantity)\n",
    "\n",
    "        self.balance -= (self.tom_forecast[1][1][0]) * quantity\n",
    "\n",
    "    def sell(self, ticker):\n",
    "        quantity = 5\n",
    "\n",
    "        self.portfolio['date'].append(self.date)\n",
    "        self.portfolio['ticker'].append(ticker)\n",
    "        self.portfolio['b/s'].append('s')\n",
    "        self.portfolio['price'].append((self.tom_forecast[1][1][0]) * quantity)\n",
    "        self.portfolio['quantity'].append(quantity)\n",
    "\n",
    "        self.balance += (self.tom_forecast[1][1][0]) * quantity\n",
    "\n",
    "    def increment_day(self):\n",
    "        d = datetime.strptime(self.date, '%Y-%m-%d')\n",
    "        d = d + timedelta(days=1)\n",
    "        self.date = d.strftime('%Y-%m-%d')\n"
   ],
   "metadata": {
    "collapsed": false,
    "ExecuteTime": {
     "start_time": "2023-04-18T14:59:09.593735Z",
     "end_time": "2023-04-18T14:59:09.611560Z"
    }
   }
  },
  {
   "cell_type": "code",
   "execution_count": 12,
   "outputs": [
    {
     "name": "stdout",
     "output_type": "stream",
     "text": [
      "[*********************100%***********************]  1 of 1 completed\n"
     ]
    },
    {
     "name": "stderr",
     "output_type": "stream",
     "text": [
      "14:59:10 - cmdstanpy - INFO - Chain [1] start processing\n",
      "14:59:12 - cmdstanpy - INFO - Chain [1] done processing\n"
     ]
    },
    {
     "name": "stdout",
     "output_type": "stream",
     "text": [
      "[*********************100%***********************]  1 of 1 completed\n"
     ]
    },
    {
     "name": "stderr",
     "output_type": "stream",
     "text": [
      "14:59:14 - cmdstanpy - INFO - Chain [1] start processing\n",
      "14:59:17 - cmdstanpy - INFO - Chain [1] done processing\n"
     ]
    },
    {
     "name": "stdout",
     "output_type": "stream",
     "text": [
      "[*********************100%***********************]  1 of 1 completed\n"
     ]
    },
    {
     "name": "stderr",
     "output_type": "stream",
     "text": [
      "14:59:18 - cmdstanpy - INFO - Chain [1] start processing\n"
     ]
    },
    {
     "ename": "KeyboardInterrupt",
     "evalue": "",
     "output_type": "error",
     "traceback": [
      "\u001B[0;31m---------------------------------------------------------------------------\u001B[0m",
      "\u001B[0;31mKeyboardInterrupt\u001B[0m                         Traceback (most recent call last)",
      "Cell \u001B[0;32mIn[12], line 2\u001B[0m\n\u001B[1;32m      1\u001B[0m bernie \u001B[38;5;241m=\u001B[39m Bernie()\n\u001B[0;32m----> 2\u001B[0m \u001B[43mbernie\u001B[49m\u001B[38;5;241;43m.\u001B[39;49m\u001B[43mrun_sim\u001B[49m\u001B[43m(\u001B[49m\u001B[43m)\u001B[49m\n\u001B[1;32m      3\u001B[0m \u001B[38;5;28mprint\u001B[39m(bernie\u001B[38;5;241m.\u001B[39mbalance)\n",
      "Cell \u001B[0;32mIn[11], line 81\u001B[0m, in \u001B[0;36mBernie.run_sim\u001B[0;34m(self)\u001B[0m\n\u001B[1;32m     79\u001B[0m \u001B[38;5;28;01mdef\u001B[39;00m \u001B[38;5;21mrun_sim\u001B[39m(\u001B[38;5;28mself\u001B[39m):\n\u001B[1;32m     80\u001B[0m     \u001B[38;5;28;01mwhile\u001B[39;00m \u001B[38;5;28mself\u001B[39m\u001B[38;5;241m.\u001B[39mdate \u001B[38;5;241m!=\u001B[39m \u001B[38;5;124m'\u001B[39m\u001B[38;5;124m2022-06-01\u001B[39m\u001B[38;5;124m'\u001B[39m:\n\u001B[0;32m---> 81\u001B[0m         \u001B[38;5;28;43mself\u001B[39;49m\u001B[38;5;241;43m.\u001B[39;49m\u001B[43mpredict_tomorrow\u001B[49m\u001B[43m(\u001B[49m\u001B[43m)\u001B[49m\n\u001B[1;32m     82\u001B[0m         \u001B[38;5;28mself\u001B[39m\u001B[38;5;241m.\u001B[39mcheck_buy()\n\u001B[1;32m     83\u001B[0m         \u001B[38;5;28mself\u001B[39m\u001B[38;5;241m.\u001B[39mcheck_sell()\n",
      "Cell \u001B[0;32mIn[11], line 21\u001B[0m, in \u001B[0;36mBernie.predict_tomorrow\u001B[0;34m(self)\u001B[0m\n\u001B[1;32m     17\u001B[0m df\u001B[38;5;241m.\u001B[39mreset_index(inplace\u001B[38;5;241m=\u001B[39m\u001B[38;5;28;01mTrue\u001B[39;00m, drop\u001B[38;5;241m=\u001B[39m\u001B[38;5;28;01mTrue\u001B[39;00m)\n\u001B[1;32m     19\u001B[0m m \u001B[38;5;241m=\u001B[39m Prophet(daily_seasonality\u001B[38;5;241m=\u001B[39m\u001B[38;5;28;01mTrue\u001B[39;00m)\n\u001B[0;32m---> 21\u001B[0m \u001B[43mm\u001B[49m\u001B[38;5;241;43m.\u001B[39;49m\u001B[43mfit\u001B[49m\u001B[43m(\u001B[49m\u001B[43mdf\u001B[49m\u001B[43m)\u001B[49m\n\u001B[1;32m     22\u001B[0m future \u001B[38;5;241m=\u001B[39m m\u001B[38;5;241m.\u001B[39mmake_future_dataframe(periods\u001B[38;5;241m=\u001B[39m\u001B[38;5;241m3\u001B[39m)\n\u001B[1;32m     23\u001B[0m forecast \u001B[38;5;241m=\u001B[39m m\u001B[38;5;241m.\u001B[39mpredict(future)\n",
      "File \u001B[0;32m~/PycharmProjects/pythonProject2/venv/lib/python3.9/site-packages/prophet/forecaster.py:1181\u001B[0m, in \u001B[0;36mProphet.fit\u001B[0;34m(self, df, **kwargs)\u001B[0m\n\u001B[1;32m   1179\u001B[0m     \u001B[38;5;28mself\u001B[39m\u001B[38;5;241m.\u001B[39mparams \u001B[38;5;241m=\u001B[39m \u001B[38;5;28mself\u001B[39m\u001B[38;5;241m.\u001B[39mstan_backend\u001B[38;5;241m.\u001B[39msampling(stan_init, dat, \u001B[38;5;28mself\u001B[39m\u001B[38;5;241m.\u001B[39mmcmc_samples, \u001B[38;5;241m*\u001B[39m\u001B[38;5;241m*\u001B[39mkwargs)\n\u001B[1;32m   1180\u001B[0m \u001B[38;5;28;01melse\u001B[39;00m:\n\u001B[0;32m-> 1181\u001B[0m     \u001B[38;5;28mself\u001B[39m\u001B[38;5;241m.\u001B[39mparams \u001B[38;5;241m=\u001B[39m \u001B[38;5;28;43mself\u001B[39;49m\u001B[38;5;241;43m.\u001B[39;49m\u001B[43mstan_backend\u001B[49m\u001B[38;5;241;43m.\u001B[39;49m\u001B[43mfit\u001B[49m\u001B[43m(\u001B[49m\u001B[43mstan_init\u001B[49m\u001B[43m,\u001B[49m\u001B[43m \u001B[49m\u001B[43mdat\u001B[49m\u001B[43m,\u001B[49m\u001B[43m \u001B[49m\u001B[38;5;241;43m*\u001B[39;49m\u001B[38;5;241;43m*\u001B[39;49m\u001B[43mkwargs\u001B[49m\u001B[43m)\u001B[49m\n\u001B[1;32m   1183\u001B[0m \u001B[38;5;28mself\u001B[39m\u001B[38;5;241m.\u001B[39mstan_fit \u001B[38;5;241m=\u001B[39m \u001B[38;5;28mself\u001B[39m\u001B[38;5;241m.\u001B[39mstan_backend\u001B[38;5;241m.\u001B[39mstan_fit\n\u001B[1;32m   1184\u001B[0m \u001B[38;5;66;03m# If no changepoints were requested, replace delta with 0s\u001B[39;00m\n",
      "File \u001B[0;32m~/PycharmProjects/pythonProject2/venv/lib/python3.9/site-packages/prophet/models.py:96\u001B[0m, in \u001B[0;36mCmdStanPyBackend.fit\u001B[0;34m(self, stan_init, stan_data, **kwargs)\u001B[0m\n\u001B[1;32m     93\u001B[0m args\u001B[38;5;241m.\u001B[39mupdate(kwargs)\n\u001B[1;32m     95\u001B[0m \u001B[38;5;28;01mtry\u001B[39;00m:\n\u001B[0;32m---> 96\u001B[0m     \u001B[38;5;28mself\u001B[39m\u001B[38;5;241m.\u001B[39mstan_fit \u001B[38;5;241m=\u001B[39m \u001B[38;5;28;43mself\u001B[39;49m\u001B[38;5;241;43m.\u001B[39;49m\u001B[43mmodel\u001B[49m\u001B[38;5;241;43m.\u001B[39;49m\u001B[43moptimize\u001B[49m\u001B[43m(\u001B[49m\u001B[38;5;241;43m*\u001B[39;49m\u001B[38;5;241;43m*\u001B[39;49m\u001B[43margs\u001B[49m\u001B[43m)\u001B[49m\n\u001B[1;32m     97\u001B[0m \u001B[38;5;28;01mexcept\u001B[39;00m \u001B[38;5;167;01mRuntimeError\u001B[39;00m \u001B[38;5;28;01mas\u001B[39;00m e:\n\u001B[1;32m     98\u001B[0m     \u001B[38;5;66;03m# Fall back on Newton\u001B[39;00m\n\u001B[1;32m     99\u001B[0m     \u001B[38;5;28;01mif\u001B[39;00m \u001B[38;5;129;01mnot\u001B[39;00m \u001B[38;5;28mself\u001B[39m\u001B[38;5;241m.\u001B[39mnewton_fallback \u001B[38;5;129;01mor\u001B[39;00m args[\u001B[38;5;124m'\u001B[39m\u001B[38;5;124malgorithm\u001B[39m\u001B[38;5;124m'\u001B[39m] \u001B[38;5;241m==\u001B[39m \u001B[38;5;124m'\u001B[39m\u001B[38;5;124mNewton\u001B[39m\u001B[38;5;124m'\u001B[39m:\n",
      "File \u001B[0;32m~/PycharmProjects/pythonProject2/venv/lib/python3.9/site-packages/cmdstanpy/model.py:723\u001B[0m, in \u001B[0;36mCmdStanModel.optimize\u001B[0;34m(self, data, seed, inits, output_dir, sig_figs, save_profile, algorithm, init_alpha, tol_obj, tol_rel_obj, tol_grad, tol_rel_grad, tol_param, history_size, iter, save_iterations, require_converged, show_console, refresh, time_fmt, timeout)\u001B[0m\n\u001B[1;32m    721\u001B[0m     dummy_chain_id \u001B[38;5;241m=\u001B[39m \u001B[38;5;241m0\u001B[39m\n\u001B[1;32m    722\u001B[0m     runset \u001B[38;5;241m=\u001B[39m RunSet(args\u001B[38;5;241m=\u001B[39margs, chains\u001B[38;5;241m=\u001B[39m\u001B[38;5;241m1\u001B[39m, time_fmt\u001B[38;5;241m=\u001B[39mtime_fmt)\n\u001B[0;32m--> 723\u001B[0m     \u001B[38;5;28;43mself\u001B[39;49m\u001B[38;5;241;43m.\u001B[39;49m\u001B[43m_run_cmdstan\u001B[49m\u001B[43m(\u001B[49m\n\u001B[1;32m    724\u001B[0m \u001B[43m        \u001B[49m\u001B[43mrunset\u001B[49m\u001B[43m,\u001B[49m\n\u001B[1;32m    725\u001B[0m \u001B[43m        \u001B[49m\u001B[43mdummy_chain_id\u001B[49m\u001B[43m,\u001B[49m\n\u001B[1;32m    726\u001B[0m \u001B[43m        \u001B[49m\u001B[43mshow_console\u001B[49m\u001B[38;5;241;43m=\u001B[39;49m\u001B[43mshow_console\u001B[49m\u001B[43m,\u001B[49m\n\u001B[1;32m    727\u001B[0m \u001B[43m        \u001B[49m\u001B[43mtimeout\u001B[49m\u001B[38;5;241;43m=\u001B[39;49m\u001B[43mtimeout\u001B[49m\u001B[43m,\u001B[49m\n\u001B[1;32m    728\u001B[0m \u001B[43m    \u001B[49m\u001B[43m)\u001B[49m\n\u001B[1;32m    729\u001B[0m runset\u001B[38;5;241m.\u001B[39mraise_for_timeouts()\n\u001B[1;32m    731\u001B[0m \u001B[38;5;28;01mif\u001B[39;00m \u001B[38;5;129;01mnot\u001B[39;00m runset\u001B[38;5;241m.\u001B[39m_check_retcodes():\n",
      "File \u001B[0;32m~/PycharmProjects/pythonProject2/venv/lib/python3.9/site-packages/cmdstanpy/model.py:1722\u001B[0m, in \u001B[0;36mCmdStanModel._run_cmdstan\u001B[0;34m(self, runset, idx, show_progress, show_console, progress_hook, timeout)\u001B[0m\n\u001B[1;32m   1720\u001B[0m \u001B[38;5;28;01mwhile\u001B[39;00m proc\u001B[38;5;241m.\u001B[39mpoll() \u001B[38;5;129;01mis\u001B[39;00m \u001B[38;5;28;01mNone\u001B[39;00m:\n\u001B[1;32m   1721\u001B[0m     \u001B[38;5;28;01mif\u001B[39;00m proc\u001B[38;5;241m.\u001B[39mstdout \u001B[38;5;129;01mis\u001B[39;00m \u001B[38;5;129;01mnot\u001B[39;00m \u001B[38;5;28;01mNone\u001B[39;00m:\n\u001B[0;32m-> 1722\u001B[0m         line \u001B[38;5;241m=\u001B[39m \u001B[43mproc\u001B[49m\u001B[38;5;241;43m.\u001B[39;49m\u001B[43mstdout\u001B[49m\u001B[38;5;241;43m.\u001B[39;49m\u001B[43mreadline\u001B[49m\u001B[43m(\u001B[49m\u001B[43m)\u001B[49m\n\u001B[1;32m   1723\u001B[0m         fd_out\u001B[38;5;241m.\u001B[39mwrite(line)\n\u001B[1;32m   1724\u001B[0m         line \u001B[38;5;241m=\u001B[39m line\u001B[38;5;241m.\u001B[39mstrip()\n",
      "\u001B[0;31mKeyboardInterrupt\u001B[0m: "
     ]
    }
   ],
   "source": [
    "bernie = Bernie()\n",
    "while bernie.date != '2016-01-01':\n",
    "    bernie.predict_tomorrow()\n",
    "    bernie.check_buy()\n",
    "    bernie.check_sell()\n",
    "    bernie.increment_day()\n",
    "    print(bernie.date, bernie.balance)\n",
    "\n",
    "print(bernie.balance)"
   ],
   "metadata": {
    "collapsed": false,
    "ExecuteTime": {
     "start_time": "2023-04-17T23:36:39.627534Z",
     "end_time": "2023-04-17T23:36:45.085059Z"
    }
   }
  },
  {
   "cell_type": "code",
   "execution_count": null,
   "outputs": [],
   "source": [
    "bernie.tom_forecast[1][0]"
   ],
   "metadata": {
    "collapsed": false,
    "ExecuteTime": {
     "start_time": "2023-04-18T00:06:33.660629Z",
     "end_time": "2023-04-18T00:06:33.692347Z"
    }
   }
  }
 ],
 "metadata": {
  "kernelspec": {
   "display_name": "Python 3",
   "language": "python",
   "name": "python3"
  },
  "language_info": {
   "codemirror_mode": {
    "name": "ipython",
    "version": 2
   },
   "file_extension": ".py",
   "mimetype": "text/x-python",
   "name": "python",
   "nbconvert_exporter": "python",
   "pygments_lexer": "ipython2",
   "version": "2.7.6"
  }
 },
 "nbformat": 4,
 "nbformat_minor": 0
}
